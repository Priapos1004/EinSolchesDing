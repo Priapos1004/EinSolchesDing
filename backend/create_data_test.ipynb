{
 "cells": [
  {
   "cell_type": "code",
   "execution_count": 1,
   "metadata": {},
   "outputs": [],
   "source": [
    "import pandas as pd"
   ]
  },
  {
   "cell_type": "code",
   "execution_count": 2,
   "metadata": {},
   "outputs": [],
   "source": [
    "schlagwort_de = [\"trocken\",\"teuer\",\"hart/weich\",\"besorgen\",\"Präsident\",\"Label\",\"Winter\",\"Loch\",\"Haare\",\"flicken\",\"Stall\",\"Gehege\",\"Holz\",\"untergehen\",\"heben\",\"bauen\",\"glänzt\",\"feuerfest\",\"2. Klasse\",\"Zug\",\"Manege\",\"Film\",\"lebt\",\"einfarbig\",\"Luther\",\"Schuppen etc.\",\"Fall\",\"Hochhaus\",\"10 Leute\",\"Jumbojet\",\"unterhaltsam\",\"verstecken\",\"entbehrlich\",\"Sportzeug\",\"gesehen\",\"fiktiv\",\"Uni\",\"halten\",\"Fitness\",\"fixiert\",\"Stange/Seil\",\"Boden\",\"drehen\",\"unnatürlich\",\"waschen\",\"Kosten\",\"Musik\",\"Patent\",\"1:5\",\"Knöpfe\",\"Darstellung\",\"Geruch\",\"elekt. Strom\",\"Metall\",\"Schwein\",\"Rollen\",\"Populär\",\"Umtauschbar\",\"Symmetrie\",\"unbrechbar\",\"schießen\",\"biegbar\",\"rau\",\"Duden\",\"Rakete\",\"Land\",\"Süden\",\"Nachahmung\",\">100 Jahre\",\"Strom\",\"Tod\",\"jeder\",\"teurer\",\"Wunsch\",\"Antike\",\"Handwerk\",\"täglich\",\"Beerdigung\",\"<100 Jahre\",\"Kinderzimmer\",\"Schuss\",\"falten\",\"Tür\",\"einweg\",\"aussprechen\",\"Unterwasser\",\"Bewegung\",\"transparent\",\"legal\",\"<3 Kinder\",\"Mund\",\"Freunde\",\"einzigartig\",\"langjährig\"]\n",
    "schlagwort_en = [\"dry\", \"expensive\", \"hard/soft\", \"get\", \"president\", \"label\", \"winter\", \"hole\", \"hair\", \"mend\", \"stable\", \"enclosure\", \"wood\", \"sink\", \"lift\", \"build\", \"shines\", \"fireproof\", \"2nd class\", \"train\", \"ring\", \"film\", \"lives\", \"monochrome\", \"Luther\", \"claws etc. \", \"fall\", \"skyscraper\", \"10 people\", \"jumbo jet\", \"entertaining\", \"hide\", \"dispensable\", \"sports stuff\", \"seen\", \"fictional\", \"university\", \"hold\", \"fitness\", \"fixed\", \"pole/rope\", \"floor\", \"rotating\", \"unnatural\", \"wash\", \"cost\", \"music\", \"patent\", \"1:5\",\"buttons\",\"representation\",\"odour\",\"current\", \"metal\", \"pig\", \"rolls\", \"popular\", \"exchangeable\", \"symmetry\", \"unbreakable\", \"shoot\", \"bendable\", \"rough\", \"Google's Ngram Viewer\", \"rocket\", \"country\", \"south\", \"imitation\", \">100 years\", \"electricity\", \"death\", \"everyone\", \"deflation\", \"wish\", \"antiquity\", \"craft\", \"daily\", \"funeral\", \"<100 years\", \"children's room\", \"gunshot\", \"fold\", \"door\", \"one-way\", \"pronounce\", \"underwater\", \"movement\", \"transparent\", \"legal\", \"<3 children\", \"mouth\", \"friends\", \"unique\", \"long-standing\"]\n",
    "infos_de = [\"Kommt in der Regel nie mit Wasser in Kontakt\",\"Kann ich mir mit meinem ganzen Geld nicht kaufen\",\"Hat sowohl harte, als auch weiche Teile\",\"Könnte ich innerhalb von 5 Minuten besorgen und in unsere Mitte legen\",\"Könnte ich dem Staatspräsidenten als Geschenk überreichen\",\"Hat in der Regel den Namen des Herstellers auf sich\",\"Wird vorallem im Winter gebraucht\",\"Hat ein Loch, durch das man eine Münze stecken könnte\",\"Hat Haare/Zotten/Borsten, aber keine Augen\",\"Wird wieder repariert, wenn es kaputt geht\",\"Passt in einen Pferdestall, aber nicht in eine Telefonzelle\",\"Haben bestimmte Tiere in ihrem Gehege\",\"Besteht hauptsächlich aus Holz\",\"Würde im Wasser untergehen\",\"Könnte ich nicht hochheben\",\"Könnte ich selbst bauen/herstellen/anfertigen\",\"Glänzt/schimmert/leuchtet/spiegelt\",\"Kann ich mit einem Feuerzeug nicht anzünden\",\"Würde in der 2. Klasse als Beleidigung durchgehen\",\"Wäre in einem Passagierzugabteil undenkbar oder würde großes Aufsehen erregen\",\"War bereits in einer Manege zu sehen\",\"Ist Thema in einem Film, den ich nennen kann\",\"Lebt\",\"Ist einfarbig\",\"Hat Luther garantiert nicht in seinem Leben gesehen\",\"Hat Schuppen, Zähne und/oder Krallen\",\"Würde einen Fall aus 1 Meter Höhe nicht heil überstehen\",\"Könnte von einem Hochhaus fallen und unbeschadet unten ankommen\",\"Ist groß und stabil genug, sodass 10 Erwachsene darauf stehen können\",\"Ist an Bord eines Jumbojets zu finden\",\"Ist unterhaltsam\",\"Könnte ich unter meiner Jacke verstecken\",\"Kann Teile entbehren und trotzdem weiter funktionieren\",\"Würde in der Sporttasche nicht groß auffallen\",\"Habe ich noch keine fünf-mal gesehen\",\"Gibt es in Wirklichkeit nicht\",\"Wird in einer Universitätsvorlesung besprochen\",\"Kann ich nicht in einer Hand halten\",\"Fördert bei richtigem Gebrauch die Fitness\",\"Ist an einen Ort fixiert/gebunden und ändert diesen kaum\",\"Ist an einer Stange/Seil befestigt\",\"Berührt in der Regel nicht den Boden\",\"Hat einen drehbaren Teil\",\"Ist nicht natürlich\",\"Ist ohne Weiteres ab-/waschbar\",\"Kostet weniger als 10 Euro\",\"Kann zum Musikmachen verwendet werden\",\"Ist patentiert\",\"Ist mehr als 5 mal so lang wie breit\",\"Besitzt Knöpfe/Hebel/Schalter\",\"Besitzt einen Bildschirm und/oder anderen visuellen Output\",\"Riecht stinkend/abstoßend/streng\",\"Leitet den elektrischen Strom\",\"Besteht zu über 1/3 aus Metall\",\"Kann man komplett an ein Schwein verfüttern\",\"Kann ich auf einer waagerechten Ebene 10 Meter weit rollen\",\"Ist weltweit bekannt, d.h. auf jedem Kontinent (ohne Antarktika)\",\"Kann ich umtauschen/zurückgeben, wenn es mir nicht gefällt und/oder Probleme bereitet\",\"Ist punkt-/achsensymmetrisch\",\"Kann ich nicht brechen/kaputt machen\",\"Kann ich 5 Meter weit mit meinem Fuß schießen\",\"Kann ich mit meinen bloßen Händen verbiegen\",\"Besitzt raue Stellen, welche man wie Sandpapier verwenden könnte\",\"Hat im Duden die Verwendungshäufigkeit 1 oder 2\",\"Könnte man in einer Rakete ins Weltall fliegen\",\"Ist in Deutschland zwar normal, aber in anderen Ländern eher selten\",\"Ist vorallem bei Südländern verbreitet\",\"Es werden Nachahmungen davon produziert\",\"Wurde schon vor 100 Jahren verwendet\",\"Braucht Strom\",\"War leider schon Grund für viele Tode\",\"Benutzt jeder Mensch in seinem Leben\",\"War früher teurer\",\"Wünschen sich viele Kinder\",\"Gab es schon zur Zeit der alten Griechen\",\"Wird von Hand gefertigt\",\"Benutzte ich täglich\",\"Würde auf einer Beerdigung nicht auffallen\",\"Gibt es erst seit den letzten 100 Jahren\",\"Findet man in einem Kinderzimmer\",\"Könnte einen Pistolenschuss abfangen\",\"Kann ich in der Mitte falten\",\"Passt durch die nächstgelegende Tür\",\"Kann man nur einmal verwenden\",\"Kann ich sexy aussprechen\",\"Ist 10 Meter Unterwasser immer noch voll funktionsfähig\",\"Bewegt sich in der Regel\",\"Kann ich hindurchsehen\",\"Ist in Deutschland nicht legal\",\"Sollte von Kindern unter 3 Jahren aus Sicherheitsgründen ferngehalten werden\",\"Kann ich komplett in meinen Mund stecken\",\"Ist für die Verwendung von mehreren Personen gleichzeitig gedacht\",\"Besitzt man in der Regel nur ein Exemplar gleichzeitig\",\"Kann man 30 Jahre lang verwenden\"]\n",
    "infos_en = [\"Usually never comes into contact with water\", \"I can't buy it with all my money\", \"Has both hard and soft parts\", \"I could get it within 5 minutes and put it in our centre\", \"I could give it to the President as a present\", \"Usually has the manufacturer's name on it\", \"Is mainly used in winter\", \"Has a hole through which you could put a coin\", \"Has hair/villi/bristles but no eyes\", \"Will be repaired if it breaks\", \"Fits in a horse stable but not in a telephone box\", \"Has certain animals in its enclosure\", \"Is mainly made of wood\", \"Would sink in water\", \"Couldn't lift\", \"Could build/make/fabricate myself\", \"Shines/shimmers/glows/mirrors\", \"Can't be lit with a lighter\", \"Would pass as an insult in 2nd class\", \"Would be unthinkable in a passenger train compartment or cause a great stir\", \"Has already been seen in a circus ring\", \"Is the subject of a film I can name\", \"Lives\", \"Is monochrome/single-coloured\", \"Martin Luther certainly never saw it in his life\", \"Has scales, teeth and/or claws\", \"Would not survive a fall from a height of 1 metre\", \"Could fall from a skyscraper and arrive at the bottom unscathed\", \"Is big and stable enough for 10 adults to stand on\", \"Can be found on board of a jumbo jet\", \"Is entertaining\", \"I could hide it under my jacket\", \"Can dispense with parts and still continue to function\", \"Wouldn't stand out much in a sports bag\", \"Haven't seen it five times\", \"Doesn't really exist\", \"Is discussed in a university lecture\", \"Can't hold in one hand\", \"Improves fitness when used correctly\", \"Is fixed/bound to one place and hardly changes it\", \"Is attached to a pole/rope\", \"Usually doesn't touch the ground\", \"Has a rotating part\", \"Is not natural\", \"Is easily removable/washable\", \"Costs less than 10 euros\", \"Can be used to make music\", \"Is patented\", \"Is more than 5 times as long as it is wide\", \"Has buttons/levers/switches\", \"Has a screen and/or other visual output\", \"Smells smelly/repellent/stringent\", \"Conducts electricity\", \"Consists of more than 1/3 metal\", \"Can be fed entirely to a pig\", \"Can roll 10 metres on a horizontal plane\", \"Is known worldwide, i.e. on every continent (excluding Antarctica)\", \"Can be exchanged/returned if I don't like it and/or it causes problems\", \"Is point or axis symmetrical\", \"I cannot break/destroy it\", \"I can shot it 5 metres with my foot\", \"I can bent it with my bare hands\", \"Has rough spots that could be used like sandpaper\", \"Has the frequency of use <0.0001 in Google's Ngram Viewer\", \"Could be flown into space in a rocket\", \"Is normal in Germany, but rather rare in other countries\", \"Is mainly found in the Mediterranean region\", \"Imitations of it are produced\", \"Was already used 100 years ago\", \"Needs electricity\", \"Unfortunately has been the cause of many deaths\", \"Everyone uses it in their life\", \"Used to be more expensive in the past\", \"Many children wish for it\", \"Existed in the time of the ancient Greeks\", \"Made by hand\", \"I use it every day\", \"Wouldn't stand out at a funeral\", \"Only been around for the last 100 years\", \"Can be found in a child's bedroom\", \"Could stop a gunshot\", \"I can fold it in half\", \"Fits through the nearest door\", \"Can only be used once\", \"Can be pronounced sexy\", \"Is still fully functional 10 metres underwater\", \"Usually moves\", \"I can see through it\", \"Is not legal in Germany\", \"Should be kept away from children under 3 years of age for safety reasons\", \"I can put it completely in my mouth\", \"Is intended for use by several people at the same time\", \"You usually only have one at a time\", \"Can be used for 30 years\"]"
   ]
  },
  {
   "cell_type": "code",
   "execution_count": 3,
   "metadata": {},
   "outputs": [
    {
     "data": {
      "text/html": [
       "<div>\n",
       "<style scoped>\n",
       "    .dataframe tbody tr th:only-of-type {\n",
       "        vertical-align: middle;\n",
       "    }\n",
       "\n",
       "    .dataframe tbody tr th {\n",
       "        vertical-align: top;\n",
       "    }\n",
       "\n",
       "    .dataframe thead th {\n",
       "        text-align: right;\n",
       "    }\n",
       "</style>\n",
       "<table border=\"1\" class=\"dataframe\">\n",
       "  <thead>\n",
       "    <tr style=\"text-align: right;\">\n",
       "      <th></th>\n",
       "      <th>keyword_de</th>\n",
       "      <th>info_de</th>\n",
       "      <th>keyword_en</th>\n",
       "      <th>info_en</th>\n",
       "    </tr>\n",
       "  </thead>\n",
       "  <tbody>\n",
       "    <tr>\n",
       "      <th>0</th>\n",
       "      <td>trocken</td>\n",
       "      <td>Kommt in der Regel nie mit Wasser in Kontakt</td>\n",
       "      <td>dry</td>\n",
       "      <td>Usually never comes into contact with water</td>\n",
       "    </tr>\n",
       "    <tr>\n",
       "      <th>1</th>\n",
       "      <td>teuer</td>\n",
       "      <td>Kann ich mir mit meinem ganzen Geld nicht kaufen</td>\n",
       "      <td>expensive</td>\n",
       "      <td>I can't buy it with all my money</td>\n",
       "    </tr>\n",
       "    <tr>\n",
       "      <th>2</th>\n",
       "      <td>hart/weich</td>\n",
       "      <td>Hat sowohl harte, als auch weiche Teile</td>\n",
       "      <td>hard/soft</td>\n",
       "      <td>Has both hard and soft parts</td>\n",
       "    </tr>\n",
       "    <tr>\n",
       "      <th>3</th>\n",
       "      <td>besorgen</td>\n",
       "      <td>Könnte ich innerhalb von 5 Minuten besorgen un...</td>\n",
       "      <td>get</td>\n",
       "      <td>I could get it within 5 minutes and put it in ...</td>\n",
       "    </tr>\n",
       "    <tr>\n",
       "      <th>4</th>\n",
       "      <td>Präsident</td>\n",
       "      <td>Könnte ich dem Staatspräsidenten als Geschenk ...</td>\n",
       "      <td>president</td>\n",
       "      <td>I could give it to the President as a present</td>\n",
       "    </tr>\n",
       "    <tr>\n",
       "      <th>...</th>\n",
       "      <td>...</td>\n",
       "      <td>...</td>\n",
       "      <td>...</td>\n",
       "      <td>...</td>\n",
       "    </tr>\n",
       "    <tr>\n",
       "      <th>89</th>\n",
       "      <td>&lt;3 Kinder</td>\n",
       "      <td>Sollte von Kindern unter 3 Jahren aus Sicherhe...</td>\n",
       "      <td>&lt;3 children</td>\n",
       "      <td>Should be kept away from children under 3 year...</td>\n",
       "    </tr>\n",
       "    <tr>\n",
       "      <th>90</th>\n",
       "      <td>Mund</td>\n",
       "      <td>Kann ich komplett in meinen Mund stecken</td>\n",
       "      <td>mouth</td>\n",
       "      <td>I can put it completely in my mouth</td>\n",
       "    </tr>\n",
       "    <tr>\n",
       "      <th>91</th>\n",
       "      <td>Freunde</td>\n",
       "      <td>Ist für die Verwendung von mehreren Personen g...</td>\n",
       "      <td>friends</td>\n",
       "      <td>Is intended for use by several people at the s...</td>\n",
       "    </tr>\n",
       "    <tr>\n",
       "      <th>92</th>\n",
       "      <td>einzigartig</td>\n",
       "      <td>Besitzt man in der Regel nur ein Exemplar glei...</td>\n",
       "      <td>unique</td>\n",
       "      <td>You usually only have one at a time</td>\n",
       "    </tr>\n",
       "    <tr>\n",
       "      <th>93</th>\n",
       "      <td>langjährig</td>\n",
       "      <td>Kann man 30 Jahre lang verwenden</td>\n",
       "      <td>long-standing</td>\n",
       "      <td>Can be used for 30 years</td>\n",
       "    </tr>\n",
       "  </tbody>\n",
       "</table>\n",
       "<p>94 rows × 4 columns</p>\n",
       "</div>"
      ],
      "text/plain": [
       "     keyword_de                                            info_de  \\\n",
       "0       trocken       Kommt in der Regel nie mit Wasser in Kontakt   \n",
       "1         teuer   Kann ich mir mit meinem ganzen Geld nicht kaufen   \n",
       "2    hart/weich            Hat sowohl harte, als auch weiche Teile   \n",
       "3      besorgen  Könnte ich innerhalb von 5 Minuten besorgen un...   \n",
       "4     Präsident  Könnte ich dem Staatspräsidenten als Geschenk ...   \n",
       "..          ...                                                ...   \n",
       "89    <3 Kinder  Sollte von Kindern unter 3 Jahren aus Sicherhe...   \n",
       "90         Mund           Kann ich komplett in meinen Mund stecken   \n",
       "91      Freunde  Ist für die Verwendung von mehreren Personen g...   \n",
       "92  einzigartig  Besitzt man in der Regel nur ein Exemplar glei...   \n",
       "93   langjährig                   Kann man 30 Jahre lang verwenden   \n",
       "\n",
       "       keyword_en                                            info_en  \n",
       "0             dry        Usually never comes into contact with water  \n",
       "1       expensive                   I can't buy it with all my money  \n",
       "2       hard/soft                       Has both hard and soft parts  \n",
       "3             get  I could get it within 5 minutes and put it in ...  \n",
       "4       president      I could give it to the President as a present  \n",
       "..            ...                                                ...  \n",
       "89    <3 children  Should be kept away from children under 3 year...  \n",
       "90          mouth                I can put it completely in my mouth  \n",
       "91        friends  Is intended for use by several people at the s...  \n",
       "92         unique                You usually only have one at a time  \n",
       "93  long-standing                           Can be used for 30 years  \n",
       "\n",
       "[94 rows x 4 columns]"
      ]
     },
     "execution_count": 3,
     "metadata": {},
     "output_type": "execute_result"
    }
   ],
   "source": [
    "data_df = pd.DataFrame()\n",
    "data_df[\"keyword_de\"] = schlagwort_de\n",
    "data_df[\"info_de\"] = infos_de\n",
    "data_df[\"keyword_en\"] = schlagwort_en\n",
    "data_df[\"info_en\"] = infos_en\n",
    "data_df"
   ]
  },
  {
   "cell_type": "code",
   "execution_count": 4,
   "metadata": {},
   "outputs": [],
   "source": [
    "data_df.to_csv(\"EinSolchesDing_de_en.csv\")"
   ]
  },
  {
   "cell_type": "code",
   "execution_count": 5,
   "metadata": {},
   "outputs": [
    {
     "data": {
      "text/html": [
       "<div>\n",
       "<style scoped>\n",
       "    .dataframe tbody tr th:only-of-type {\n",
       "        vertical-align: middle;\n",
       "    }\n",
       "\n",
       "    .dataframe tbody tr th {\n",
       "        vertical-align: top;\n",
       "    }\n",
       "\n",
       "    .dataframe thead th {\n",
       "        text-align: right;\n",
       "    }\n",
       "</style>\n",
       "<table border=\"1\" class=\"dataframe\">\n",
       "  <thead>\n",
       "    <tr style=\"text-align: right;\">\n",
       "      <th></th>\n",
       "      <th>keyword_de</th>\n",
       "      <th>info_de</th>\n",
       "      <th>keyword_en</th>\n",
       "      <th>info_en</th>\n",
       "    </tr>\n",
       "  </thead>\n",
       "  <tbody>\n",
       "  </tbody>\n",
       "</table>\n",
       "</div>"
      ],
      "text/plain": [
       "Empty DataFrame\n",
       "Columns: [keyword_de, info_de, keyword_en, info_en]\n",
       "Index: []"
      ]
     },
     "execution_count": 5,
     "metadata": {},
     "output_type": "execute_result"
    }
   ],
   "source": [
    "data_df[data_df.keyword_en.apply(lambda x: x.lower()).duplicated(keep=False)]"
   ]
  },
  {
   "cell_type": "code",
   "execution_count": null,
   "metadata": {},
   "outputs": [],
   "source": []
  }
 ],
 "metadata": {
  "kernelspec": {
   "display_name": "exp",
   "language": "python",
   "name": "python3"
  },
  "language_info": {
   "codemirror_mode": {
    "name": "ipython",
    "version": 3
   },
   "file_extension": ".py",
   "mimetype": "text/x-python",
   "name": "python",
   "nbconvert_exporter": "python",
   "pygments_lexer": "ipython3",
   "version": "3.11.5"
  }
 },
 "nbformat": 4,
 "nbformat_minor": 2
}
